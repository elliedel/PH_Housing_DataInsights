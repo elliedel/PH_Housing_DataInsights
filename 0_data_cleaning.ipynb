{
 "cells": [
  {
   "cell_type": "markdown",
   "id": "a746a477-7d22-4d1c-ac37-89396cf390d0",
   "metadata": {},
   "source": [
    "# Data Cleaning & Transformation"
   ]
  },
  {
   "cell_type": "code",
   "execution_count": 1,
   "id": "56f59553-5a92-446e-ba24-dc12df2106f6",
   "metadata": {},
   "outputs": [],
   "source": [
    "import pandas as pd\n",
    "\n",
    "housing1 = pd.read_csv(\"datasets/raw/Housing Prices Imputed.csv\")\n",
    "housing2 = pd.read_csv(\"datasets/raw/Housing Prices Philippines Lamudi.csv\")"
   ]
  },
  {
   "cell_type": "code",
   "execution_count": 2,
   "id": "71f66580-f4ef-4a9d-bbd9-9ca432d018a3",
   "metadata": {},
   "outputs": [
    {
     "name": "stdout",
     "output_type": "stream",
     "text": [
      "<class 'pandas.core.frame.DataFrame'>\n",
      "RangeIndex: 2999 entries, 0 to 2998\n",
      "Data columns (total 12 columns):\n",
      " #   Column                     Non-Null Count  Dtype  \n",
      "---  ------                     --------------  -----  \n",
      " 0   Index                      2999 non-null   int64  \n",
      " 1   Title                      2924 non-null   object \n",
      " 2   Bathrooms                  2999 non-null   float64\n",
      " 3   Bedrooms                   2999 non-null   int64  \n",
      " 4   Car Spaces                 2999 non-null   int64  \n",
      " 5   Floor area (m²)            2917 non-null   float64\n",
      " 6   Land Size (m²)             2844 non-null   float64\n",
      " 7   Subdivision name           1887 non-null   object \n",
      " 8   Block and Lot/Unit Number  1175 non-null   object \n",
      " 9   Build (Year)               511 non-null    float64\n",
      " 10  Rooms (total)              2999 non-null   float64\n",
      " 11  Price                      2924 non-null   float64\n",
      "dtypes: float64(6), int64(3), object(3)\n",
      "memory usage: 281.3+ KB\n"
     ]
    }
   ],
   "source": [
    "housing1.info()"
   ]
  },
  {
   "cell_type": "code",
   "execution_count": 3,
   "id": "a381a2e0-ff88-4233-b106-2c3d477ca285",
   "metadata": {},
   "outputs": [
    {
     "name": "stdout",
     "output_type": "stream",
     "text": [
      "<class 'pandas.core.frame.DataFrame'>\n",
      "RangeIndex: 2999 entries, 0 to 2998\n",
      "Data columns (total 12 columns):\n",
      " #   Column                     Non-Null Count  Dtype  \n",
      "---  ------                     --------------  -----  \n",
      " 0   Unnamed: 0                 2999 non-null   int64  \n",
      " 1   Title                      2924 non-null   object \n",
      " 2   Bathrooms                  2238 non-null   float64\n",
      " 3   Bedrooms                   2275 non-null   float64\n",
      " 4   Car Spaces                 1211 non-null   float64\n",
      " 5   Floor area (m²)            2917 non-null   float64\n",
      " 6   Land Size (m²)             2844 non-null   float64\n",
      " 7   Subdivision name           1887 non-null   object \n",
      " 8   Block and Lot/Unit Number  1175 non-null   object \n",
      " 9   Build (Year)               511 non-null    float64\n",
      " 10  Rooms (total)              508 non-null    float64\n",
      " 11  Price                      2924 non-null   float64\n",
      "dtypes: float64(8), int64(1), object(3)\n",
      "memory usage: 281.3+ KB\n"
     ]
    }
   ],
   "source": [
    "housing2.info()"
   ]
  },
  {
   "cell_type": "markdown",
   "id": "5cf6f7dd-d373-4773-904e-79f0d81e3f17",
   "metadata": {},
   "source": [
    "### Housing 1"
   ]
  },
  {
   "cell_type": "code",
   "execution_count": 4,
   "id": "b1dd8fd6-2be9-455e-9804-4968ec3c3af3",
   "metadata": {},
   "outputs": [
    {
     "data": {
      "text/html": [
       "<div>\n",
       "<style scoped>\n",
       "    .dataframe tbody tr th:only-of-type {\n",
       "        vertical-align: middle;\n",
       "    }\n",
       "\n",
       "    .dataframe tbody tr th {\n",
       "        vertical-align: top;\n",
       "    }\n",
       "\n",
       "    .dataframe thead th {\n",
       "        text-align: right;\n",
       "    }\n",
       "</style>\n",
       "<table border=\"1\" class=\"dataframe\">\n",
       "  <thead>\n",
       "    <tr style=\"text-align: right;\">\n",
       "      <th></th>\n",
       "      <th>Index</th>\n",
       "      <th>Title</th>\n",
       "      <th>Bathrooms</th>\n",
       "      <th>Bedrooms</th>\n",
       "      <th>Car Spaces</th>\n",
       "      <th>Floor area (m²)</th>\n",
       "      <th>Land Size (m²)</th>\n",
       "      <th>Subdivision name</th>\n",
       "      <th>Block and Lot/Unit Number</th>\n",
       "      <th>Build (Year)</th>\n",
       "      <th>Rooms (total)</th>\n",
       "      <th>Price</th>\n",
       "    </tr>\n",
       "  </thead>\n",
       "  <tbody>\n",
       "    <tr>\n",
       "      <th>0</th>\n",
       "      <td>0</td>\n",
       "      <td>Natalie 3BR Single Detached House for Sale in ...</td>\n",
       "      <td>3.0</td>\n",
       "      <td>3</td>\n",
       "      <td>1</td>\n",
       "      <td>123.8</td>\n",
       "      <td>140.0</td>\n",
       "      <td>West Beverly Hills</td>\n",
       "      <td>NaN</td>\n",
       "      <td>NaN</td>\n",
       "      <td>1.0</td>\n",
       "      <td>5493461.0</td>\n",
       "    </tr>\n",
       "    <tr>\n",
       "      <th>1</th>\n",
       "      <td>1</td>\n",
       "      <td>Townhouse with 2 Bedrooms for Sale at Hana Sou...</td>\n",
       "      <td>2.0</td>\n",
       "      <td>2</td>\n",
       "      <td>0</td>\n",
       "      <td>38.0</td>\n",
       "      <td>36.0</td>\n",
       "      <td>Hana South</td>\n",
       "      <td>Lyca model</td>\n",
       "      <td>NaN</td>\n",
       "      <td>1.0</td>\n",
       "      <td>1918427.0</td>\n",
       "    </tr>\n",
       "    <tr>\n",
       "      <th>2</th>\n",
       "      <td>2</td>\n",
       "      <td>RFO 1BR 2-Storey Rowhouse for Sale at Marytown...</td>\n",
       "      <td>1.0</td>\n",
       "      <td>1</td>\n",
       "      <td>0</td>\n",
       "      <td>46.6</td>\n",
       "      <td>67.0</td>\n",
       "      <td>Marytown Place</td>\n",
       "      <td>Blk1 Lot23 (ROSE-INNER)</td>\n",
       "      <td>2019.0</td>\n",
       "      <td>1.0</td>\n",
       "      <td>1700404.0</td>\n",
       "    </tr>\n",
       "  </tbody>\n",
       "</table>\n",
       "</div>"
      ],
      "text/plain": [
       "   Index                                              Title  Bathrooms  \\\n",
       "0      0  Natalie 3BR Single Detached House for Sale in ...        3.0   \n",
       "1      1  Townhouse with 2 Bedrooms for Sale at Hana Sou...        2.0   \n",
       "2      2  RFO 1BR 2-Storey Rowhouse for Sale at Marytown...        1.0   \n",
       "\n",
       "   Bedrooms  Car Spaces  Floor area (m²)  Land Size (m²)    Subdivision name  \\\n",
       "0         3           1            123.8           140.0  West Beverly Hills   \n",
       "1         2           0             38.0            36.0          Hana South   \n",
       "2         1           0             46.6            67.0      Marytown Place   \n",
       "\n",
       "  Block and Lot/Unit Number  Build (Year)  Rooms (total)      Price  \n",
       "0                       NaN           NaN            1.0  5493461.0  \n",
       "1                Lyca model           NaN            1.0  1918427.0  \n",
       "2   Blk1 Lot23 (ROSE-INNER)        2019.0            1.0  1700404.0  "
      ]
     },
     "execution_count": 4,
     "metadata": {},
     "output_type": "execute_result"
    }
   ],
   "source": [
    "housing1.head(3)"
   ]
  },
  {
   "cell_type": "code",
   "execution_count": 5,
   "id": "1f21a286-9415-4a12-b839-15902bbe9d85",
   "metadata": {},
   "outputs": [
    {
     "name": "stdout",
     "output_type": "stream",
     "text": [
      "Pre-duplicate deletion shape:  (2999, 12)\n"
     ]
    }
   ],
   "source": [
    "print(\"Pre-duplicate deletion shape: \",housing1.shape)"
   ]
  },
  {
   "cell_type": "code",
   "execution_count": 6,
   "id": "204071a6-d6c6-4a3d-b2b5-05350dba6b2c",
   "metadata": {},
   "outputs": [
    {
     "name": "stdout",
     "output_type": "stream",
     "text": [
      "Duplicate rows:  0\n",
      "Current shape:  (2999, 12)\n"
     ]
    }
   ],
   "source": [
    "# Check duplicates, and remove them\n",
    "\n",
    "print(\"Duplicate rows: \",housing1.duplicated().sum())\n",
    "\n",
    "housing1.drop_duplicates(inplace=True)\n",
    "\n",
    "print(\"Current shape: \", housing1.shape)"
   ]
  },
  {
   "cell_type": "code",
   "execution_count": 7,
   "id": "55f622e4-1596-474b-be57-4cf38776b36a",
   "metadata": {},
   "outputs": [
    {
     "name": "stdout",
     "output_type": "stream",
     "text": [
      "Columns: Index(['Index', 'Title', 'Bathrooms', 'Bedrooms', 'Car Spaces',\n",
      "       'Floor area (m²)', 'Land Size (m²)', 'Subdivision name',\n",
      "       'Block and Lot/Unit Number', 'Build (Year)', 'Rooms (total)', 'Price'],\n",
      "      dtype='object')\n",
      "\n"
     ]
    }
   ],
   "source": [
    "print(\"Columns:\", housing1.columns, end=\"\\n\\n\")"
   ]
  },
  {
   "cell_type": "code",
   "execution_count": 8,
   "id": "c9c278a3-215f-4f77-bf61-2f43204079d6",
   "metadata": {},
   "outputs": [
    {
     "name": "stdout",
     "output_type": "stream",
     "text": [
      "New Columns: Index(['Bathrooms', 'Bedrooms', 'Car Spaces', 'Floor area (m²)',\n",
      "       'Land Size (m²)', 'Price'],\n",
      "      dtype='object')\n"
     ]
    }
   ],
   "source": [
    "housing1.drop(columns=[\"Index\", \"Title\", \"Subdivision name\", \"Block and Lot/Unit Number\", \"Build (Year)\", \"Rooms (total)\"], inplace=True)\n",
    "print(\"New Columns:\", housing1.columns)"
   ]
  },
  {
   "cell_type": "code",
   "execution_count": 9,
   "id": "cf6b5160-254d-4ee9-8513-ec1bf7dd7201",
   "metadata": {},
   "outputs": [
    {
     "data": {
      "text/html": [
       "<div>\n",
       "<style scoped>\n",
       "    .dataframe tbody tr th:only-of-type {\n",
       "        vertical-align: middle;\n",
       "    }\n",
       "\n",
       "    .dataframe tbody tr th {\n",
       "        vertical-align: top;\n",
       "    }\n",
       "\n",
       "    .dataframe thead th {\n",
       "        text-align: right;\n",
       "    }\n",
       "</style>\n",
       "<table border=\"1\" class=\"dataframe\">\n",
       "  <thead>\n",
       "    <tr style=\"text-align: right;\">\n",
       "      <th></th>\n",
       "      <th>Bathrooms</th>\n",
       "      <th>Bedrooms</th>\n",
       "      <th>Car Spaces</th>\n",
       "      <th>Floor area (m²)</th>\n",
       "      <th>Land Size (m²)</th>\n",
       "      <th>Price</th>\n",
       "    </tr>\n",
       "  </thead>\n",
       "  <tbody>\n",
       "    <tr>\n",
       "      <th>0</th>\n",
       "      <td>3.0</td>\n",
       "      <td>3</td>\n",
       "      <td>1</td>\n",
       "      <td>123.80</td>\n",
       "      <td>140.0</td>\n",
       "      <td>5493461.0</td>\n",
       "    </tr>\n",
       "    <tr>\n",
       "      <th>1</th>\n",
       "      <td>2.0</td>\n",
       "      <td>2</td>\n",
       "      <td>0</td>\n",
       "      <td>38.00</td>\n",
       "      <td>36.0</td>\n",
       "      <td>1918427.0</td>\n",
       "    </tr>\n",
       "    <tr>\n",
       "      <th>2</th>\n",
       "      <td>1.0</td>\n",
       "      <td>1</td>\n",
       "      <td>0</td>\n",
       "      <td>46.60</td>\n",
       "      <td>67.0</td>\n",
       "      <td>1700404.0</td>\n",
       "    </tr>\n",
       "    <tr>\n",
       "      <th>3</th>\n",
       "      <td>3.0</td>\n",
       "      <td>4</td>\n",
       "      <td>1</td>\n",
       "      <td>167.00</td>\n",
       "      <td>154.0</td>\n",
       "      <td>7841100.0</td>\n",
       "    </tr>\n",
       "    <tr>\n",
       "      <th>4</th>\n",
       "      <td>3.0</td>\n",
       "      <td>5</td>\n",
       "      <td>0</td>\n",
       "      <td>166.00</td>\n",
       "      <td>143.0</td>\n",
       "      <td>10151000.0</td>\n",
       "    </tr>\n",
       "    <tr>\n",
       "      <th>...</th>\n",
       "      <td>...</td>\n",
       "      <td>...</td>\n",
       "      <td>...</td>\n",
       "      <td>...</td>\n",
       "      <td>...</td>\n",
       "      <td>...</td>\n",
       "    </tr>\n",
       "    <tr>\n",
       "      <th>2994</th>\n",
       "      <td>4.0</td>\n",
       "      <td>5</td>\n",
       "      <td>0</td>\n",
       "      <td>372.00</td>\n",
       "      <td>300.0</td>\n",
       "      <td>16000000.0</td>\n",
       "    </tr>\n",
       "    <tr>\n",
       "      <th>2995</th>\n",
       "      <td>4.0</td>\n",
       "      <td>4</td>\n",
       "      <td>6</td>\n",
       "      <td>350.00</td>\n",
       "      <td>1056.0</td>\n",
       "      <td>85000000.0</td>\n",
       "    </tr>\n",
       "    <tr>\n",
       "      <th>2996</th>\n",
       "      <td>1.0</td>\n",
       "      <td>2</td>\n",
       "      <td>1</td>\n",
       "      <td>37.30</td>\n",
       "      <td>169.0</td>\n",
       "      <td>2844000.0</td>\n",
       "    </tr>\n",
       "    <tr>\n",
       "      <th>2997</th>\n",
       "      <td>3.0</td>\n",
       "      <td>4</td>\n",
       "      <td>1</td>\n",
       "      <td>198.26</td>\n",
       "      <td>217.0</td>\n",
       "      <td>7676915.0</td>\n",
       "    </tr>\n",
       "    <tr>\n",
       "      <th>2998</th>\n",
       "      <td>1.0</td>\n",
       "      <td>3</td>\n",
       "      <td>0</td>\n",
       "      <td>86.00</td>\n",
       "      <td>72.0</td>\n",
       "      <td>2650000.0</td>\n",
       "    </tr>\n",
       "  </tbody>\n",
       "</table>\n",
       "<p>2999 rows × 6 columns</p>\n",
       "</div>"
      ],
      "text/plain": [
       "      Bathrooms  Bedrooms  Car Spaces  Floor area (m²)  Land Size (m²)  \\\n",
       "0           3.0         3           1           123.80           140.0   \n",
       "1           2.0         2           0            38.00            36.0   \n",
       "2           1.0         1           0            46.60            67.0   \n",
       "3           3.0         4           1           167.00           154.0   \n",
       "4           3.0         5           0           166.00           143.0   \n",
       "...         ...       ...         ...              ...             ...   \n",
       "2994        4.0         5           0           372.00           300.0   \n",
       "2995        4.0         4           6           350.00          1056.0   \n",
       "2996        1.0         2           1            37.30           169.0   \n",
       "2997        3.0         4           1           198.26           217.0   \n",
       "2998        1.0         3           0            86.00            72.0   \n",
       "\n",
       "           Price  \n",
       "0      5493461.0  \n",
       "1      1918427.0  \n",
       "2      1700404.0  \n",
       "3      7841100.0  \n",
       "4     10151000.0  \n",
       "...          ...  \n",
       "2994  16000000.0  \n",
       "2995  85000000.0  \n",
       "2996   2844000.0  \n",
       "2997   7676915.0  \n",
       "2998   2650000.0  \n",
       "\n",
       "[2999 rows x 6 columns]"
      ]
     },
     "execution_count": 9,
     "metadata": {},
     "output_type": "execute_result"
    }
   ],
   "source": [
    "housing1"
   ]
  },
  {
   "cell_type": "code",
   "execution_count": 10,
   "id": "1d61e692",
   "metadata": {},
   "outputs": [
    {
     "data": {
      "text/plain": [
       "Index(['Bathrooms', 'Bedrooms', 'Car Spaces', 'Floor area (m²)',\n",
       "       'Land Size (m²)', 'Price'],\n",
       "      dtype='object')"
      ]
     },
     "execution_count": 10,
     "metadata": {},
     "output_type": "execute_result"
    }
   ],
   "source": [
    "housing1.columns"
   ]
  },
  {
   "cell_type": "code",
   "execution_count": 11,
   "id": "780be984-f230-404d-aa78-8d08ca8c7374",
   "metadata": {},
   "outputs": [
    {
     "data": {
      "text/plain": [
       "Index(['bathrooms', 'bedrooms', 'car_spaces', 'floor_area_m2', 'land_size_m2',\n",
       "       'price_php'],\n",
       "      dtype='object')"
      ]
     },
     "execution_count": 11,
     "metadata": {},
     "output_type": "execute_result"
    }
   ],
   "source": [
    "housing1.columns = [\"bathrooms\", \"bedrooms\", \"car_spaces\", \"floor_area_m2\", \"land_size_m2\", \"price_php\"]\n",
    "\n",
    "housing1.columns"
   ]
  },
  {
   "cell_type": "code",
   "execution_count": 12,
   "id": "f617e898",
   "metadata": {},
   "outputs": [
    {
     "name": "stdout",
     "output_type": "stream",
     "text": [
      "<class 'pandas.core.frame.DataFrame'>\n",
      "RangeIndex: 2999 entries, 0 to 2998\n",
      "Data columns (total 6 columns):\n",
      " #   Column         Non-Null Count  Dtype  \n",
      "---  ------         --------------  -----  \n",
      " 0   bathrooms      2999 non-null   float64\n",
      " 1   bedrooms       2999 non-null   int64  \n",
      " 2   car_spaces     2999 non-null   int64  \n",
      " 3   floor_area_m2  2917 non-null   float64\n",
      " 4   land_size_m2   2844 non-null   float64\n",
      " 5   price_php      2924 non-null   float64\n",
      "dtypes: float64(4), int64(2)\n",
      "memory usage: 140.7 KB\n"
     ]
    }
   ],
   "source": [
    "housing1.info()"
   ]
  },
  {
   "cell_type": "code",
   "execution_count": 13,
   "id": "0e6b9308",
   "metadata": {},
   "outputs": [
    {
     "name": "stdout",
     "output_type": "stream",
     "text": [
      "<class 'pandas.core.frame.DataFrame'>\n",
      "RangeIndex: 2999 entries, 0 to 2998\n",
      "Data columns (total 6 columns):\n",
      " #   Column         Non-Null Count  Dtype  \n",
      "---  ------         --------------  -----  \n",
      " 0   bathrooms      2999 non-null   int64  \n",
      " 1   bedrooms       2999 non-null   int64  \n",
      " 2   car_spaces     2999 non-null   int64  \n",
      " 3   floor_area_m2  2917 non-null   float64\n",
      " 4   land_size_m2   2844 non-null   float64\n",
      " 5   price_php      2924 non-null   float64\n",
      "dtypes: float64(3), int64(3)\n",
      "memory usage: 140.7 KB\n"
     ]
    }
   ],
   "source": [
    "housing1[\"bathrooms\"] = housing1[\"bathrooms\"].astype(int)\n",
    "\n",
    "housing1.info()"
   ]
  },
  {
   "cell_type": "code",
   "execution_count": 14,
   "id": "210be7a9",
   "metadata": {},
   "outputs": [
    {
     "name": "stdout",
     "output_type": "stream",
     "text": [
      "Null Values Frequency:\n",
      "bathrooms          0\n",
      "bedrooms           0\n",
      "car_spaces         0\n",
      "floor_area_m2     82\n",
      "land_size_m2     155\n",
      "price_php         75\n",
      "dtype: int64\n",
      "\n",
      "housing 1 shape: (2839, 6)\n"
     ]
    }
   ],
   "source": [
    "print(\"Null Values Frequency:\", housing1.isna().sum(), sep=\"\\n\")\n",
    "\n",
    "housing1.dropna(inplace=True)\n",
    "\n",
    "print(\"\\nhousing 1 shape:\", housing1.shape)"
   ]
  },
  {
   "cell_type": "code",
   "execution_count": 15,
   "id": "c714da27",
   "metadata": {},
   "outputs": [
    {
     "name": "stdout",
     "output_type": "stream",
     "text": [
      "<class 'pandas.core.frame.DataFrame'>\n",
      "Index: 2839 entries, 0 to 2998\n",
      "Data columns (total 6 columns):\n",
      " #   Column         Non-Null Count  Dtype  \n",
      "---  ------         --------------  -----  \n",
      " 0   bathrooms      2839 non-null   int64  \n",
      " 1   bedrooms       2839 non-null   int64  \n",
      " 2   car_spaces     2839 non-null   int64  \n",
      " 3   floor_area_m2  2839 non-null   float64\n",
      " 4   land_size_m2   2839 non-null   float64\n",
      " 5   price_php      2839 non-null   float64\n",
      "dtypes: float64(3), int64(3)\n",
      "memory usage: 155.3 KB\n"
     ]
    }
   ],
   "source": [
    "housing1.info()"
   ]
  },
  {
   "cell_type": "markdown",
   "id": "616a3b8d",
   "metadata": {},
   "source": [
    "### Housing 2"
   ]
  },
  {
   "cell_type": "code",
   "execution_count": 16,
   "id": "3ffdb1f1",
   "metadata": {},
   "outputs": [
    {
     "data": {
      "text/html": [
       "<div>\n",
       "<style scoped>\n",
       "    .dataframe tbody tr th:only-of-type {\n",
       "        vertical-align: middle;\n",
       "    }\n",
       "\n",
       "    .dataframe tbody tr th {\n",
       "        vertical-align: top;\n",
       "    }\n",
       "\n",
       "    .dataframe thead th {\n",
       "        text-align: right;\n",
       "    }\n",
       "</style>\n",
       "<table border=\"1\" class=\"dataframe\">\n",
       "  <thead>\n",
       "    <tr style=\"text-align: right;\">\n",
       "      <th></th>\n",
       "      <th>Unnamed: 0</th>\n",
       "      <th>Title</th>\n",
       "      <th>Bathrooms</th>\n",
       "      <th>Bedrooms</th>\n",
       "      <th>Car Spaces</th>\n",
       "      <th>Floor area (m²)</th>\n",
       "      <th>Land Size (m²)</th>\n",
       "      <th>Subdivision name</th>\n",
       "      <th>Block and Lot/Unit Number</th>\n",
       "      <th>Build (Year)</th>\n",
       "      <th>Rooms (total)</th>\n",
       "      <th>Price</th>\n",
       "    </tr>\n",
       "  </thead>\n",
       "  <tbody>\n",
       "    <tr>\n",
       "      <th>0</th>\n",
       "      <td>0</td>\n",
       "      <td>Natalie 3BR Single Detached House for Sale in ...</td>\n",
       "      <td>3.0</td>\n",
       "      <td>3.0</td>\n",
       "      <td>1.0</td>\n",
       "      <td>123.8</td>\n",
       "      <td>140.0</td>\n",
       "      <td>West Beverly Hills</td>\n",
       "      <td>NaN</td>\n",
       "      <td>NaN</td>\n",
       "      <td>NaN</td>\n",
       "      <td>5493461.0</td>\n",
       "    </tr>\n",
       "    <tr>\n",
       "      <th>1</th>\n",
       "      <td>1</td>\n",
       "      <td>Townhouse with 2 Bedrooms for Sale at Hana Sou...</td>\n",
       "      <td>2.0</td>\n",
       "      <td>2.0</td>\n",
       "      <td>NaN</td>\n",
       "      <td>38.0</td>\n",
       "      <td>36.0</td>\n",
       "      <td>Hana South</td>\n",
       "      <td>Lyca model</td>\n",
       "      <td>NaN</td>\n",
       "      <td>NaN</td>\n",
       "      <td>1918427.0</td>\n",
       "    </tr>\n",
       "    <tr>\n",
       "      <th>2</th>\n",
       "      <td>2</td>\n",
       "      <td>RFO 1BR 2-Storey Rowhouse for Sale at Marytown...</td>\n",
       "      <td>1.0</td>\n",
       "      <td>1.0</td>\n",
       "      <td>NaN</td>\n",
       "      <td>46.6</td>\n",
       "      <td>67.0</td>\n",
       "      <td>Marytown Place</td>\n",
       "      <td>Blk1 Lot23 (ROSE-INNER)</td>\n",
       "      <td>2019.0</td>\n",
       "      <td>NaN</td>\n",
       "      <td>1700404.0</td>\n",
       "    </tr>\n",
       "  </tbody>\n",
       "</table>\n",
       "</div>"
      ],
      "text/plain": [
       "   Unnamed: 0                                              Title  Bathrooms  \\\n",
       "0           0  Natalie 3BR Single Detached House for Sale in ...        3.0   \n",
       "1           1  Townhouse with 2 Bedrooms for Sale at Hana Sou...        2.0   \n",
       "2           2  RFO 1BR 2-Storey Rowhouse for Sale at Marytown...        1.0   \n",
       "\n",
       "   Bedrooms  Car Spaces  Floor area (m²)  Land Size (m²)    Subdivision name  \\\n",
       "0       3.0         1.0            123.8           140.0  West Beverly Hills   \n",
       "1       2.0         NaN             38.0            36.0          Hana South   \n",
       "2       1.0         NaN             46.6            67.0      Marytown Place   \n",
       "\n",
       "  Block and Lot/Unit Number  Build (Year)  Rooms (total)      Price  \n",
       "0                       NaN           NaN            NaN  5493461.0  \n",
       "1                Lyca model           NaN            NaN  1918427.0  \n",
       "2   Blk1 Lot23 (ROSE-INNER)        2019.0            NaN  1700404.0  "
      ]
     },
     "execution_count": 16,
     "metadata": {},
     "output_type": "execute_result"
    }
   ],
   "source": [
    "housing2.head(3)"
   ]
  },
  {
   "cell_type": "code",
   "execution_count": 17,
   "id": "146bf235",
   "metadata": {},
   "outputs": [
    {
     "name": "stdout",
     "output_type": "stream",
     "text": [
      "Pre-duplicate deletion shape:  (2999, 12)\n",
      "Duplicate rows:  0\n",
      "Current shape:  (2999, 12)\n"
     ]
    }
   ],
   "source": [
    "print(\"Pre-duplicate deletion shape: \",housing2.shape)\n",
    "\n",
    "# Check duplicates, and remove them\n",
    "print(\"Duplicate rows: \",housing2.duplicated().sum())\n",
    "\n",
    "housing1.drop_duplicates(inplace=True)\n",
    "\n",
    "print(\"Current shape: \", housing2.shape)"
   ]
  },
  {
   "cell_type": "code",
   "execution_count": 18,
   "id": "575c2d69",
   "metadata": {},
   "outputs": [
    {
     "name": "stdout",
     "output_type": "stream",
     "text": [
      "Columns: Index(['Unnamed: 0', 'Title', 'Bathrooms', 'Bedrooms', 'Car Spaces',\n",
      "       'Floor area (m²)', 'Land Size (m²)', 'Subdivision name',\n",
      "       'Block and Lot/Unit Number', 'Build (Year)', 'Rooms (total)', 'Price'],\n",
      "      dtype='object')\n",
      "\n",
      "New Columns: Index(['Bathrooms', 'Bedrooms', 'Car Spaces', 'Floor area (m²)',\n",
      "       'Land Size (m²)', 'Price'],\n",
      "      dtype='object')\n"
     ]
    }
   ],
   "source": [
    "print(\"Columns:\", housing2.columns, end=\"\\n\\n\")\n",
    "\n",
    "housing2.drop(columns=[\"Unnamed: 0\", \"Title\", \"Subdivision name\", \"Block and Lot/Unit Number\", \"Build (Year)\", \"Rooms (total)\"], inplace=True)\n",
    "\n",
    "print(\"New Columns:\", housing2.columns)"
   ]
  },
  {
   "cell_type": "code",
   "execution_count": 19,
   "id": "a65639b8",
   "metadata": {},
   "outputs": [
    {
     "data": {
      "text/html": [
       "<div>\n",
       "<style scoped>\n",
       "    .dataframe tbody tr th:only-of-type {\n",
       "        vertical-align: middle;\n",
       "    }\n",
       "\n",
       "    .dataframe tbody tr th {\n",
       "        vertical-align: top;\n",
       "    }\n",
       "\n",
       "    .dataframe thead th {\n",
       "        text-align: right;\n",
       "    }\n",
       "</style>\n",
       "<table border=\"1\" class=\"dataframe\">\n",
       "  <thead>\n",
       "    <tr style=\"text-align: right;\">\n",
       "      <th></th>\n",
       "      <th>Bathrooms</th>\n",
       "      <th>Bedrooms</th>\n",
       "      <th>Car Spaces</th>\n",
       "      <th>Floor area (m²)</th>\n",
       "      <th>Land Size (m²)</th>\n",
       "      <th>Price</th>\n",
       "    </tr>\n",
       "  </thead>\n",
       "  <tbody>\n",
       "    <tr>\n",
       "      <th>0</th>\n",
       "      <td>3.0</td>\n",
       "      <td>3.0</td>\n",
       "      <td>1.0</td>\n",
       "      <td>123.8</td>\n",
       "      <td>140.0</td>\n",
       "      <td>5493461.0</td>\n",
       "    </tr>\n",
       "    <tr>\n",
       "      <th>1</th>\n",
       "      <td>2.0</td>\n",
       "      <td>2.0</td>\n",
       "      <td>NaN</td>\n",
       "      <td>38.0</td>\n",
       "      <td>36.0</td>\n",
       "      <td>1918427.0</td>\n",
       "    </tr>\n",
       "    <tr>\n",
       "      <th>2</th>\n",
       "      <td>1.0</td>\n",
       "      <td>1.0</td>\n",
       "      <td>NaN</td>\n",
       "      <td>46.6</td>\n",
       "      <td>67.0</td>\n",
       "      <td>1700404.0</td>\n",
       "    </tr>\n",
       "    <tr>\n",
       "      <th>3</th>\n",
       "      <td>3.0</td>\n",
       "      <td>4.0</td>\n",
       "      <td>1.0</td>\n",
       "      <td>167.0</td>\n",
       "      <td>154.0</td>\n",
       "      <td>7841100.0</td>\n",
       "    </tr>\n",
       "    <tr>\n",
       "      <th>4</th>\n",
       "      <td>3.0</td>\n",
       "      <td>5.0</td>\n",
       "      <td>NaN</td>\n",
       "      <td>166.0</td>\n",
       "      <td>143.0</td>\n",
       "      <td>10151000.0</td>\n",
       "    </tr>\n",
       "  </tbody>\n",
       "</table>\n",
       "</div>"
      ],
      "text/plain": [
       "   Bathrooms  Bedrooms  Car Spaces  Floor area (m²)  Land Size (m²)  \\\n",
       "0        3.0       3.0         1.0            123.8           140.0   \n",
       "1        2.0       2.0         NaN             38.0            36.0   \n",
       "2        1.0       1.0         NaN             46.6            67.0   \n",
       "3        3.0       4.0         1.0            167.0           154.0   \n",
       "4        3.0       5.0         NaN            166.0           143.0   \n",
       "\n",
       "        Price  \n",
       "0   5493461.0  \n",
       "1   1918427.0  \n",
       "2   1700404.0  \n",
       "3   7841100.0  \n",
       "4  10151000.0  "
      ]
     },
     "execution_count": 19,
     "metadata": {},
     "output_type": "execute_result"
    }
   ],
   "source": [
    "housing2.head()"
   ]
  },
  {
   "cell_type": "code",
   "execution_count": 20,
   "id": "af26a5bf",
   "metadata": {},
   "outputs": [
    {
     "data": {
      "text/plain": [
       "Index(['bathrooms', 'bedrooms', 'car_spaces', 'floor_area_m2', 'land_size_m2',\n",
       "       'price_php'],\n",
       "      dtype='object')"
      ]
     },
     "execution_count": 20,
     "metadata": {},
     "output_type": "execute_result"
    }
   ],
   "source": [
    "housing2.columns = [\"bathrooms\", \"bedrooms\", \"car_spaces\", \"floor_area_m2\", \"land_size_m2\", \"price_php\"]\n",
    "\n",
    "housing2.columns"
   ]
  },
  {
   "cell_type": "code",
   "execution_count": 21,
   "id": "e59e86c7",
   "metadata": {},
   "outputs": [
    {
     "name": "stdout",
     "output_type": "stream",
     "text": [
      "<class 'pandas.core.frame.DataFrame'>\n",
      "RangeIndex: 2999 entries, 0 to 2998\n",
      "Data columns (total 6 columns):\n",
      " #   Column         Non-Null Count  Dtype  \n",
      "---  ------         --------------  -----  \n",
      " 0   bathrooms      2238 non-null   float64\n",
      " 1   bedrooms       2275 non-null   float64\n",
      " 2   car_spaces     1211 non-null   float64\n",
      " 3   floor_area_m2  2917 non-null   float64\n",
      " 4   land_size_m2   2844 non-null   float64\n",
      " 5   price_php      2924 non-null   float64\n",
      "dtypes: float64(6)\n",
      "memory usage: 140.7 KB\n"
     ]
    }
   ],
   "source": [
    "housing2.info()"
   ]
  },
  {
   "cell_type": "code",
   "execution_count": 22,
   "id": "f73552b2",
   "metadata": {},
   "outputs": [
    {
     "name": "stdout",
     "output_type": "stream",
     "text": [
      "Null Values Frequency:\n",
      "bathrooms         761\n",
      "bedrooms          724\n",
      "car_spaces       1788\n",
      "floor_area_m2      82\n",
      "land_size_m2      155\n",
      "price_php          75\n",
      "dtype: int64\n",
      "\n",
      "0: 0\n",
      "1+: 1211\n",
      "Null: 1788\n",
      "0 + 1211 + 1788 = 2999\n"
     ]
    }
   ],
   "source": [
    "print(\"Null Values Frequency:\", housing2.isna().sum(), sep=\"\\n\")\n",
    "\n",
    "zero = housing2[housing2[\"car_spaces\"]==0][\"car_spaces\"].count()\n",
    "oneplus = housing2[housing2[\"car_spaces\"]>0][\"car_spaces\"].count()\n",
    "null = housing2[\"car_spaces\"].isna().sum()\n",
    "\n",
    "print(\"\\n0:\",zero)\n",
    "print(\"1+:\",oneplus)\n",
    "print(\"Null:\",null)\n",
    "\n",
    "print(f\"{zero} + {oneplus} + {null} =\", zero+oneplus+null)"
   ]
  },
  {
   "cell_type": "code",
   "execution_count": 23,
   "id": "83c9fbad",
   "metadata": {},
   "outputs": [
    {
     "data": {
      "text/html": [
       "<div>\n",
       "<style scoped>\n",
       "    .dataframe tbody tr th:only-of-type {\n",
       "        vertical-align: middle;\n",
       "    }\n",
       "\n",
       "    .dataframe tbody tr th {\n",
       "        vertical-align: top;\n",
       "    }\n",
       "\n",
       "    .dataframe thead th {\n",
       "        text-align: right;\n",
       "    }\n",
       "</style>\n",
       "<table border=\"1\" class=\"dataframe\">\n",
       "  <thead>\n",
       "    <tr style=\"text-align: right;\">\n",
       "      <th></th>\n",
       "      <th>bathrooms</th>\n",
       "      <th>bedrooms</th>\n",
       "      <th>car_spaces</th>\n",
       "      <th>floor_area_m2</th>\n",
       "      <th>land_size_m2</th>\n",
       "      <th>price_php</th>\n",
       "    </tr>\n",
       "  </thead>\n",
       "  <tbody>\n",
       "    <tr>\n",
       "      <th>0</th>\n",
       "      <td>3.0</td>\n",
       "      <td>3.0</td>\n",
       "      <td>1.0</td>\n",
       "      <td>123.8</td>\n",
       "      <td>140.0</td>\n",
       "      <td>5493461.0</td>\n",
       "    </tr>\n",
       "    <tr>\n",
       "      <th>1</th>\n",
       "      <td>2.0</td>\n",
       "      <td>2.0</td>\n",
       "      <td>NaN</td>\n",
       "      <td>38.0</td>\n",
       "      <td>36.0</td>\n",
       "      <td>1918427.0</td>\n",
       "    </tr>\n",
       "    <tr>\n",
       "      <th>2</th>\n",
       "      <td>1.0</td>\n",
       "      <td>1.0</td>\n",
       "      <td>NaN</td>\n",
       "      <td>46.6</td>\n",
       "      <td>67.0</td>\n",
       "      <td>1700404.0</td>\n",
       "    </tr>\n",
       "    <tr>\n",
       "      <th>3</th>\n",
       "      <td>3.0</td>\n",
       "      <td>4.0</td>\n",
       "      <td>1.0</td>\n",
       "      <td>167.0</td>\n",
       "      <td>154.0</td>\n",
       "      <td>7841100.0</td>\n",
       "    </tr>\n",
       "    <tr>\n",
       "      <th>4</th>\n",
       "      <td>3.0</td>\n",
       "      <td>5.0</td>\n",
       "      <td>NaN</td>\n",
       "      <td>166.0</td>\n",
       "      <td>143.0</td>\n",
       "      <td>10151000.0</td>\n",
       "    </tr>\n",
       "  </tbody>\n",
       "</table>\n",
       "</div>"
      ],
      "text/plain": [
       "   bathrooms  bedrooms  car_spaces  floor_area_m2  land_size_m2   price_php\n",
       "0        3.0       3.0         1.0          123.8         140.0   5493461.0\n",
       "1        2.0       2.0         NaN           38.0          36.0   1918427.0\n",
       "2        1.0       1.0         NaN           46.6          67.0   1700404.0\n",
       "3        3.0       4.0         1.0          167.0         154.0   7841100.0\n",
       "4        3.0       5.0         NaN          166.0         143.0  10151000.0"
      ]
     },
     "execution_count": 23,
     "metadata": {},
     "output_type": "execute_result"
    }
   ],
   "source": [
    "housing2.head()"
   ]
  },
  {
   "cell_type": "code",
   "execution_count": 24,
   "id": "97bd14bb",
   "metadata": {},
   "outputs": [
    {
     "data": {
      "text/plain": [
       "0       1.0\n",
       "1       0.0\n",
       "2       0.0\n",
       "3       1.0\n",
       "4       0.0\n",
       "       ... \n",
       "2994    0.0\n",
       "2995    6.0\n",
       "2996    1.0\n",
       "2997    1.0\n",
       "2998    0.0\n",
       "Name: car_spaces, Length: 2999, dtype: float64"
      ]
     },
     "execution_count": 24,
     "metadata": {},
     "output_type": "execute_result"
    }
   ],
   "source": [
    "housing2[\"car_spaces\"].fillna(0)"
   ]
  },
  {
   "cell_type": "code",
   "execution_count": 25,
   "id": "27538ac7",
   "metadata": {},
   "outputs": [
    {
     "name": "stdout",
     "output_type": "stream",
     "text": [
      "\n",
      "housing 2 shape: (1183, 6)\n"
     ]
    }
   ],
   "source": [
    "housing2.dropna(inplace=True)\n",
    "\n",
    "print(\"\\nhousing 2 shape:\", housing2.shape)"
   ]
  },
  {
   "cell_type": "code",
   "execution_count": 26,
   "id": "770b3dc3",
   "metadata": {},
   "outputs": [
    {
     "name": "stdout",
     "output_type": "stream",
     "text": [
      "<class 'pandas.core.frame.DataFrame'>\n",
      "Index: 1183 entries, 0 to 2997\n",
      "Data columns (total 6 columns):\n",
      " #   Column         Non-Null Count  Dtype  \n",
      "---  ------         --------------  -----  \n",
      " 0   bathrooms      1183 non-null   int64  \n",
      " 1   bedrooms       1183 non-null   int64  \n",
      " 2   car_spaces     1183 non-null   int64  \n",
      " 3   floor_area_m2  1183 non-null   float64\n",
      " 4   land_size_m2   1183 non-null   float64\n",
      " 5   price_php      1183 non-null   float64\n",
      "dtypes: float64(3), int64(3)\n",
      "memory usage: 64.7 KB\n"
     ]
    }
   ],
   "source": [
    "housing2[\"bathrooms\"] = housing2[\"bathrooms\"].astype(int)\n",
    "housing2[\"bedrooms\"] = housing2[\"bedrooms\"].astype(int)\n",
    "housing2[\"car_spaces\"] = housing2[\"car_spaces\"].astype(int)\n",
    "\n",
    "housing2.info()"
   ]
  },
  {
   "cell_type": "code",
   "execution_count": 27,
   "id": "d7871004",
   "metadata": {},
   "outputs": [
    {
     "name": "stdout",
     "output_type": "stream",
     "text": [
      "housing shape: (3665, 6)\n"
     ]
    }
   ],
   "source": [
    "housing = pd.concat([housing1, housing2])\n",
    "print(\"housing shape:\", housing.shape)"
   ]
  },
  {
   "cell_type": "code",
   "execution_count": 28,
   "id": "65dae573",
   "metadata": {},
   "outputs": [],
   "source": [
    "housing.to_csv(\"datasets/processed/PH_Housing_Prices_cleaned.csv\", index=False)"
   ]
  }
 ],
 "metadata": {
  "kernelspec": {
   "display_name": "Python (dsenv)",
   "language": "python",
   "name": "dsenv"
  },
  "language_info": {
   "codemirror_mode": {
    "name": "ipython",
    "version": 3
   },
   "file_extension": ".py",
   "mimetype": "text/x-python",
   "name": "python",
   "nbconvert_exporter": "python",
   "pygments_lexer": "ipython3",
   "version": "3.12.5"
  }
 },
 "nbformat": 4,
 "nbformat_minor": 5
}
